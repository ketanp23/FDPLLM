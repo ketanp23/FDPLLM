{
  "nbformat": 4,
  "nbformat_minor": 0,
  "metadata": {
    "colab": {
      "provenance": [],
      "authorship_tag": "ABX9TyO27OKrGUWRdLulJVt8tueA",
      "include_colab_link": true
    },
    "kernelspec": {
      "name": "python3",
      "display_name": "Python 3"
    },
    "language_info": {
      "name": "python"
    }
  },
  "cells": [
    {
      "cell_type": "markdown",
      "metadata": {
        "id": "view-in-github",
        "colab_type": "text"
      },
      "source": [
        "<a href=\"https://colab.research.google.com/github/ketanp23/FDPLLM/blob/main/Word2Vec.ipynb\" target=\"_parent\"><img src=\"https://colab.research.google.com/assets/colab-badge.svg\" alt=\"Open In Colab\"/></a>"
      ]
    },
    {
      "cell_type": "code",
      "execution_count": 13,
      "metadata": {
        "colab": {
          "base_uri": "https://localhost:8080/"
        },
        "id": "4DTjEH32FYxZ",
        "outputId": "16c6ecb2-4e20-430c-e701-960ac02374df"
      },
      "outputs": [
        {
          "output_type": "stream",
          "name": "stderr",
          "text": [
            "[nltk_data] Downloading package punkt_tab to /root/nltk_data...\n",
            "[nltk_data]   Unzipping tokenizers/punkt_tab.zip.\n"
          ]
        }
      ],
      "source": [
        "\n",
        "# Python program to generate word vectors using Word2Vec\n",
        "import nltk\n",
        "nltk.download('punkt_tab')\n",
        "\n",
        "\n",
        "# importing all necessary modules\n",
        "from gensim.models import Word2Vec\n",
        "import gensim\n",
        "from nltk.tokenize import sent_tokenize, word_tokenize\n",
        "import warnings"
      ]
    },
    {
      "cell_type": "code",
      "source": [
        "f = \"This is a cute Dog. My Cat is Cute\" #Sentence"
      ],
      "metadata": {
        "id": "Mvu-THUHFeO_"
      },
      "execution_count": 8,
      "outputs": []
    },
    {
      "cell_type": "code",
      "source": [
        "data = []"
      ],
      "metadata": {
        "id": "EPx-2_nqGOki"
      },
      "execution_count": 7,
      "outputs": []
    },
    {
      "cell_type": "code",
      "source": [
        "# iterate through each sentence in the file\n",
        "for i in sent_tokenize(f):\n",
        "    temp = []\n",
        "\n",
        "    # tokenize the sentence into words\n",
        "    for j in word_tokenize(i):\n",
        "        temp.append(j.lower())\n",
        "\n",
        "    data.append(temp)"
      ],
      "metadata": {
        "id": "LobH-qPmFssC"
      },
      "execution_count": 14,
      "outputs": []
    },
    {
      "cell_type": "code",
      "source": [
        "# Create CBOW model\n",
        "model1 = gensim.models.Word2Vec(data, min_count=1,\n",
        "                                vector_size=100, window=5)\n"
      ],
      "metadata": {
        "id": "-lHAWV28HKRw"
      },
      "execution_count": 15,
      "outputs": []
    },
    {
      "cell_type": "code",
      "source": [
        "# Print results\n",
        "print(\"Cosine similarity between 'cat' \" +\n",
        "      \"and 'dog' - CBOW : \",\n",
        "      model1.wv.similarity('cat', 'dog'))\n",
        ""
      ],
      "metadata": {
        "colab": {
          "base_uri": "https://localhost:8080/"
        },
        "id": "vBbqKqTXHMt-",
        "outputId": "29dccd12-fcce-44b2-aab8-f32c2d897cb2"
      },
      "execution_count": 16,
      "outputs": [
        {
          "output_type": "stream",
          "name": "stdout",
          "text": [
            "Cosine similarity between 'cat' and 'dog' - CBOW :  0.0640898\n"
          ]
        }
      ]
    },
    {
      "cell_type": "code",
      "source": [
        "print(\"Cosine similarity between 'is' \" +\n",
        "      \"and 'cute' - CBOW : \",\n",
        "      model1.wv.similarity('is', 'cute'))"
      ],
      "metadata": {
        "colab": {
          "base_uri": "https://localhost:8080/"
        },
        "id": "TL4nm3HSHbD2",
        "outputId": "c5113e1d-0e91-437a-fabf-f11f73d8caac"
      },
      "execution_count": 18,
      "outputs": [
        {
          "output_type": "stream",
          "name": "stdout",
          "text": [
            "Cosine similarity between 'is' and 'cute' - CBOW :  -0.010839177\n"
          ]
        }
      ]
    }
  ]
}